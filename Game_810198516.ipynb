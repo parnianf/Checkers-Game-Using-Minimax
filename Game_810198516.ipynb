{
 "cells": [
  {
   "cell_type": "markdown",
   "metadata": {},
   "source": [
    "# Artificial Intelligence Course, Dr.Fadaei"
   ]
  },
  {
   "cell_type": "markdown",
   "metadata": {},
   "source": [
    "# Computer Assignment #2"
   ]
  },
  {
   "cell_type": "markdown",
   "metadata": {},
   "source": [
    "## AI Hands-on: Game"
   ]
  },
  {
   "cell_type": "markdown",
   "metadata": {},
   "source": [
    "## Parnian fazel (810198516)"
   ]
  },
  {
   "cell_type": "markdown",
   "metadata": {},
   "source": [
    "### Goal:"
   ]
  },
  {
   "cell_type": "markdown",
   "metadata": {},
   "source": [
    "In this assignment we get familiar with the concept of **Adversarial Search**, **Game theory** and how to work with **multiagent environments**. In this assignment we should implement minimax algorithm and get deeper in the concept of advesarial search."
   ]
  },
  {
   "cell_type": "markdown",
   "metadata": {},
   "source": [
    "### Brief Description:"
   ]
  },
  {
   "cell_type": "markdown",
   "metadata": {},
   "source": [
    "In this project we are provided with the prepared implementation of checkers game and we should implement some missing parts of the code which are marked with *#Your Code Goes Here* comment. These methods which are missing are mainly related to the minimax algorithm."
   ]
  },
  {
   "cell_type": "code",
   "execution_count": 2,
   "metadata": {},
   "outputs": [],
   "source": [
    "import pygame\n",
    "\n",
    "WIDTH, HEIGHT = 600, 600\n",
    "ROWS, COLS = 8, 8\n",
    "SQUARE_SIZE = WIDTH//COLS\n",
    "\n",
    "RED = (255, 0, 0)\n",
    "WHITE = (255, 255, 255)\n",
    "BLACK = (0, 0, 0)\n",
    "BLUE = (0, 0, 255)\n",
    "GREY = (128, 128, 128)\n",
    "\n",
    "CROWN = pygame.transform.scale(pygame.image.load('crown.png'), (44, 25))"
   ]
  },
  {
   "cell_type": "code",
   "execution_count": 3,
   "metadata": {},
   "outputs": [],
   "source": [
    "import pygame\n",
    "\n",
    "class Piece:\n",
    "\n",
    "\tPADDING = 15\n",
    "\tOUTLINE = 2\n",
    "\n",
    "\tdef __init__(self, row, col, color):\n",
    "\t\tself.row = row\n",
    "\t\tself.col = col\n",
    "\t\tself.color = color\n",
    "\t\tself.king = False\n",
    "\t\tself.x = 0\n",
    "\t\tself.y = 0\n",
    "\t\tself.calPos()\n",
    "\n",
    "\tdef calPos(self):\n",
    "\t\tself.x = SQUARE_SIZE * self.col + SQUARE_SIZE // 2\n",
    "\t\tself.y = SQUARE_SIZE * self.row + SQUARE_SIZE // 2\n",
    "\n",
    "\tdef makeKing(self):\n",
    "\t\tself.king = True\n",
    "\n",
    "\tdef draw(self, win):\n",
    "\t\tradius = SQUARE_SIZE//2 -self.PADDING\n",
    "\t\tpygame.draw.circle(win, self.color, (self.x, self.y), radius + self.OUTLINE)\n",
    "\t\tpygame.draw.circle(win, self.color, (self.x, self.y), radius)\n",
    "\t\tif self.king:\n",
    "\t\t\twin.blit(CROWN, (self.x - CROWN.get_width()//2, self.y - CROWN.get_height()//2))\n",
    "\n",
    "\tdef move(self, row, col):\n",
    "\t\tself.row = row\n",
    "\t\tself.col = col\n",
    "\t\tself.calPos()\n",
    "\n",
    "\tdef __repr__(self):\n",
    "\t\treturn str(self.color)"
   ]
  },
  {
   "cell_type": "markdown",
   "metadata": {},
   "source": [
    "In this part I implemented the `getValidMoves` method using `_traverseLeft` and `_traverseLeft method`. This method return all the valid moves for the given piece in the board. Note that for the king pieces all four directions should be checked."
   ]
  },
  {
   "cell_type": "code",
   "execution_count": 4,
   "metadata": {},
   "outputs": [],
   "source": [
    "import pygame\n",
    "\n",
    "class Board:\n",
    "    \t\n",
    "    def __init__(self):\n",
    "        self.board = []\n",
    "        self.redLeft = self.whiteLeft = 12\n",
    "        self.redKings = self.whiteKings = 0\n",
    "        self.createBoard()\n",
    "    \n",
    "    def drawSquares(self, win):\n",
    "        win.fill(BLACK)\n",
    "        for row in range(ROWS):\n",
    "            for col in range(row % 2, COLS, 2):\n",
    "                pygame.draw.rect(win, RED, (row*SQUARE_SIZE, col *SQUARE_SIZE, SQUARE_SIZE, SQUARE_SIZE))\n",
    "\n",
    "    def evaluate(self):\n",
    "        return self.whiteLeft - self.redLeft + (self.whiteKings * 0.5 - self.redKings * 0.5)\n",
    "\n",
    "    def getAllPieces(self, color):\n",
    "        pieces = []\n",
    "        for row in self.board:\n",
    "            for piece in row:\n",
    "                if piece != 0 and piece.color == color:\n",
    "                    pieces.append(piece)\n",
    "        return pieces\n",
    "\n",
    "    def move(self, piece, row, col):\n",
    "        self.board[piece.row][piece.col], self.board[row][col] = self.board[row][col], self.board[piece.row][piece.col]\n",
    "        piece.move(row, col)\n",
    "\n",
    "        if row == ROWS - 1 or row == 0:\n",
    "            piece.makeKing()\n",
    "            if piece.color == WHITE:\n",
    "                self.whiteKings += 1\n",
    "            else:\n",
    "                self.redKings += 1 \n",
    "\n",
    "    def getPiece(self, row, col):\n",
    "        return self.board[row][col]\n",
    "\n",
    "    def createBoard(self):\n",
    "        for row in range(ROWS):\n",
    "            self.board.append([])\n",
    "            for col in range(COLS):\n",
    "                if col % 2 == ((row +  1) % 2):\n",
    "                    if row < 3:\n",
    "                        self.board[row].append(Piece(row, col, WHITE))\n",
    "                    elif row > 4:\n",
    "                        self.board[row].append(Piece(row, col, RED))\n",
    "                    else:\n",
    "                        self.board[row].append(0)\n",
    "                else:\n",
    "                    self.board[row].append(0)\n",
    "        \n",
    "    def draw(self, win):\n",
    "        self.drawSquares(win)\n",
    "        for row in range(ROWS):\n",
    "            for col in range(COLS):\n",
    "                piece = self.board[row][col]\n",
    "                if piece != 0:\n",
    "                    piece.draw(win)\n",
    "\n",
    "    def remove(self, pieces):\n",
    "        for piece in pieces:\n",
    "            self.board[piece.row][piece.col] = 0\n",
    "            if piece != 0:\n",
    "                if piece.color == RED:\n",
    "                    self.redLeft -= 1\n",
    "                else:\n",
    "                    self.whiteLeft -= 1\n",
    "    \n",
    "    def winner(self):\n",
    "        if self.redLeft <= 0:\n",
    "            return WHITE\n",
    "        elif self.whiteLeft <= 0:\n",
    "            return RED\n",
    "        \n",
    "        return None \n",
    "    \n",
    "    def getValidMoves(self, piece):\n",
    "        # Your Code Goes Here\n",
    "        validMoves = {}\n",
    "        if not piece.king:\n",
    "            if piece.color == RED:\n",
    "                validMoves.update(self._traverseLeft(piece.row-1, max(-1, piece.row - 3), -1, RED, piece.col-1))\n",
    "                validMoves.update(self._traverseRight(piece.row-1, max(-1, piece.row - 3), -1, RED, piece.col+1))\n",
    "            elif piece.color == WHITE:\n",
    "                validMoves.update(self._traverseLeft(piece.row+1, min(8, piece.row + 3), +1, WHITE, piece.col-1))\n",
    "                validMoves.update(self._traverseRight(piece.row+1, min(8, piece.row + 3), +1, WHITE, piece.col+1))\n",
    "        elif piece.king:\n",
    "            validMoves.update(self._traverseLeft(piece.row+1, min(8, piece.row + 3), +1, piece.color, piece.col-1))\n",
    "            validMoves.update(self._traverseRight(piece.row+1, min(8, piece.row + 3), +1, piece.color, piece.col+1))\n",
    "            validMoves.update(self._traverseLeft(piece.row-1, max(-1, piece.row - 3), -1, piece.color, piece.col-1))\n",
    "            validMoves.update(self._traverseRight(piece.row-1, max(-1, piece.row - 3), -1, piece.color, piece.col+1))\n",
    "            \n",
    "        return validMoves\n",
    "\n",
    "    def _traverseLeft(self, start, stop, step, color, left, skipped=[]):\n",
    "        moves = {}\n",
    "        last = []\n",
    "        for r in range(start, stop, step):\n",
    "            if left < 0:\n",
    "                break\n",
    "            \n",
    "            current = self.board[r][left]\n",
    "            if current == 0:\n",
    "                if skipped and not last:\n",
    "                    break\n",
    "                elif skipped:\n",
    "                    moves[(r, left)] = last + skipped\n",
    "                else:\n",
    "                    moves[(r, left)] = last\n",
    "                \n",
    "                if last:\n",
    "                    if step == -1:\n",
    "                        row = max(r-3, 0)\n",
    "                    else:\n",
    "                        row = min(r+3, ROWS)\n",
    "                    moves.update(self._traverseLeft(r+step, row, step, color, left-1,skipped=last))\n",
    "                    moves.update(self._traverseRight(r+step, row, step, color, left+1,skipped=last))\n",
    "                break\n",
    "            elif current.color == color:\n",
    "                break\n",
    "            else:\n",
    "                last = [current]\n",
    "\n",
    "            left -= 1\n",
    "        \n",
    "        return moves\n",
    "\n",
    "    def _traverseRight(self, start, stop, step, color, right, skipped=[]):\n",
    "        moves = {}\n",
    "        last = []\n",
    "        for r in range(start, stop, step):\n",
    "            if right >= COLS:\n",
    "                break\n",
    "            \n",
    "            current = self.board[r][right]\n",
    "            if current == 0:\n",
    "                if skipped and not last:\n",
    "                    break\n",
    "                elif skipped:\n",
    "                    moves[(r,right)] = last + skipped\n",
    "                else:\n",
    "                    moves[(r, right)] = last\n",
    "                \n",
    "                if last:\n",
    "                    if step == -1:\n",
    "                        row = max(r-3, 0)\n",
    "                    else:\n",
    "                        row = min(r+3, ROWS)\n",
    "                    moves.update(self._traverseLeft(r+step, row, step, color, right-1,skipped=last))\n",
    "                    moves.update(self._traverseRight(r+step, row, step, color, right+1,skipped=last))\n",
    "                break\n",
    "            elif current.color == color:\n",
    "                break\n",
    "            else:\n",
    "                last = [current]\n",
    "\n",
    "            right += 1\n",
    "        \n",
    "        return moves"
   ]
  },
  {
   "cell_type": "code",
   "execution_count": 5,
   "metadata": {},
   "outputs": [],
   "source": [
    "import pygame\n",
    "\n",
    "class Game:\n",
    "\n",
    "    def __init__(self, win):\n",
    "        self._init()\n",
    "        self.win = win\n",
    "\n",
    "    def update(self):\n",
    "        self.board.draw(self.win)\n",
    "        pygame.display.update()\n",
    "\n",
    "    def _init(self):\n",
    "        self.selected = None\n",
    "        self.board = Board()\n",
    "        self.turn = RED\n",
    "        self.validMoves = {}\n",
    "\n",
    "    def winner(self):\n",
    "        return self.board.winner()\n",
    "\n",
    "    def _move(self, row, col):\n",
    "        piece = self.board.getPiece(row, col)\n",
    "        if self.selected and piece == 0 and (row, col) in self.validMoves:\n",
    "            self.board.move(self.selected, row, col)\n",
    "            skipped = self.validMoves[(row, col)]\n",
    "            if skipped:\n",
    "                self.board.remove(skipped)\n",
    "            self.changeTurn()\n",
    "        else:\n",
    "            return False\n",
    "        return True\n",
    "\n",
    "    def changeTurn(self):\n",
    "        self.validMoves = {}\n",
    "        if self.turn == RED:\n",
    "            self.turn = WHITE\n",
    "        else:\n",
    "            self.turn = RED\n",
    "\n",
    "    def getBoard(self):\n",
    "        return self.board\n",
    "\n",
    "    def aiMove(self, board):\n",
    "        self.board = board\n",
    "        self.changeTurn()"
   ]
  },
  {
   "cell_type": "markdown",
   "metadata": {},
   "source": [
    "Here is the main part of the minimax algorithm.\n",
    "According to the *Artifical Inteligence A Modern Approach* the definition of minimax algorithm is as follows:\n",
    "The minimax algolorithm computes the minimax desicion from the current state.\n",
    "First we should implement the `getAllMoves` method to get all the valid moves for a posiotion(board). Note that here all board are like a node of the minimax desicion tree. Therefore in this method all the childs of a node are made. In this method we should get copy of the parent node in order to avoid any changes in that node. Also, we should write the `simulateMove` function. In this function after choosing a valid move we simulate that move in the parent node and make a nre child node(board) and finally add this node to the tree. Now the `minimax` function can be implemented. The minimax function uses a recursive computation of the minimax values of each successor state. The recursion proceed all the way down to the leavesof the tree, and then the minimax values are backed up through the tree as the recursion unwinds. In this function I checked the conditions for the `White player` and the `Red Player` seperatly. In each level of the recursive function I checked whether the evaluated value less or more than the last value of the parent node assigned the `bestMove` respectively. Here the max player is white so we are trying to get the maximum value for the white player and the red player is the oponant and in the minimax algorithm the minimum value is considered."
   ]
  },
  {
   "cell_type": "markdown",
   "metadata": {},
   "source": [
    "**Analysis of Minimax:**\n",
    "* A complete depth-first search? Yes\n",
    "* Time complexity? O(bm)\n",
    "* Space complexity? O(bm) (depth-first exploration)"
   ]
  },
  {
   "cell_type": "code",
   "execution_count": 6,
   "metadata": {},
   "outputs": [],
   "source": [
    "from copy import deepcopy\n",
    "import pygame\n",
    "import numpy as np\n",
    "\n",
    "RED = (255,0,0)\n",
    "WHITE = (255,255,255)\n",
    "\n",
    "def minimax(position, depth, maxPlayer):\n",
    "    # Your Code Goes Here\n",
    "    if position.winner() or depth == 0:\n",
    "        return position.evaluate(), position\n",
    "    if maxPlayer:\n",
    "        v = -np.inf\n",
    "        bestMove = 0\n",
    "        allMoves = getAllMoves(position, WHITE)\n",
    "        for move in allMoves:\n",
    "            evaluation, currentMove = minimax(move, depth-1, False)\n",
    "            if v <= evaluation:\n",
    "                v = evaluation\n",
    "                bestMove = move\n",
    "        return v, bestMove\n",
    "\n",
    "\n",
    "    if not maxPlayer:\n",
    "        v = np.inf\n",
    "        bestMove = 0\n",
    "        allMoves = getAllMoves(position, RED)\n",
    "        for move in allMoves:\n",
    "            evaluation, currentMove = minimax(move, depth-1, True)\n",
    "            if v >= evaluation:\n",
    "                v = evaluation\n",
    "                bestMove = move\n",
    "        return v, bestMove\n",
    "\n",
    "    \n",
    "def simulateMove(piece, dst, board, skip):\n",
    "    # Your Code Goes Here\n",
    "    childNode = deepcopy(board)\n",
    "    if len(skip):\n",
    "        childNode.remove(skip)\n",
    "    piecee = childNode.board[piece.row][piece.col]\n",
    "    childNode.move(piecee, dst[0], dst[1])\n",
    "    return childNode\n",
    "\n",
    "def getAllMoves(board, color):\n",
    "    # Your Code Goes Here\n",
    "    allMoves = []\n",
    "    for _, piece in np.ndenumerate(board.board):\n",
    "        if not piece == 0 and piece.color == color:\n",
    "            pieceMoves = board.getValidMoves(piece)\n",
    "            for dst, passedPieces in pieceMoves.items():\n",
    "                childNode = simulateMove(piece, dst, board, passedPieces)\n",
    "                allMoves.append(childNode)\n",
    "    return allMoves"
   ]
  },
  {
   "cell_type": "code",
   "execution_count": null,
   "metadata": {},
   "outputs": [],
   "source": [
    "import pygame\n",
    "\n",
    "FPS = 60\n",
    "\n",
    "WHITE_DEPTH = 5\n",
    "RED_DEPTH = 5\n",
    "\n",
    "WIN = pygame.display.set_mode((WIDTH, HEIGHT))\n",
    "pygame.display.set_caption('Checkers')\n",
    "\n",
    "def getRowColFromMouse(pos):\n",
    "    x, y = pos\n",
    "    row = y // SQUARE_SIZE\n",
    "    col = x // SQUARE_SIZE\n",
    "    return row, col\n",
    "\n",
    "if __name__ == '__main__':\n",
    "    run = True\n",
    "    clock = pygame.time.Clock()\n",
    "    game = Game(WIN)\n",
    "\n",
    "    while run:\n",
    "        clock.tick(FPS)\n",
    "\n",
    "        if game.turn == WHITE:\n",
    "            value, newBoard = minimax(game.getBoard(), WHITE_DEPTH, True)\n",
    "            game.aiMove(newBoard)\n",
    "\n",
    "        if game.winner() != None:\n",
    "            print(game.winner())\n",
    "            run = False\n",
    "\n",
    "        if game.turn == RED:\n",
    "            value, newBoard = minimax(game.getBoard(), RED_DEPTH, False)\n",
    "            game.aiMove(newBoard)\n",
    "\n",
    "        for event in pygame.event.get():\n",
    "            if event.type == pygame.QUIT:\n",
    "                run = False\n",
    "\n",
    "        game.update()\n",
    "    \n",
    "    pygame.quit()"
   ]
  },
  {
   "cell_type": "markdown",
   "metadata": {},
   "source": [
    "**Part 3:** The heuristic evaluation function is estimated desirability or utility of a position. Acoording to the book, an evaluation function returns an estimate of the expected utility of the game from a given position(like heusrixtic function).\n",
    "Here the evaluation function is defined in the Board class."
   ]
  },
  {
   "cell_type": "markdown",
   "metadata": {},
   "source": [
    "**part 4:** By setting the both `WHITE_DEPTH` and `RED_DEPTH` to 1, the execuation time is 1.01s and then we get in to a local minima. Given that the depths are the same for both players we expect the white player which started the game first, wins the game and also because the depths are small the movements in each state are not very smart!\n",
    "Here is the picture:\n",
    "Note that here the two king pieces are stuck and we got into a local minima."
   ]
  },
  {
   "attachments": {
    "Screenshot%20from%202021-11-11%2014-37-56.png": {
     "image/png": "[encoded data removed]"
    }
   },
   "cell_type": "markdown",
   "metadata": {},
   "source": [
    "![Screenshot%20from%202021-11-11%2014-37-56.png](attachment:Screenshot%20from%202021-11-11%2014-37-56.png)"
   ]
  },
  {
   "cell_type": "markdown",
   "metadata": {},
   "source": [
    "**part 5:** By setting the `WHITE_DEPTH` to 5 and `RED_DEPTH` to 2, the execuation time is around 2 minutes and then we get into a local minima. Here is the picture of it:"
   ]
  },
  {
   "attachments": {
    "Screenshot%20from%202021-11-11%2014-49-34.png": {
     "image/png": "[encoded data removed]"
    }
   },
   "cell_type": "markdown",
   "metadata": {},
   "source": [
    "![Screenshot%20from%202021-11-11%2014-49-34.png](attachment:Screenshot%20from%202021-11-11%2014-49-34.png)"
   ]
  },
  {
   "cell_type": "markdown",
   "metadata": {},
   "source": [
    "By setting the `WHITE_DEPTH` to 2 and `RED_DEPTH` to 5, the execuation time is around 2 minuts and then we get into a local minima.\n",
    "Here is the picture of it:"
   ]
  },
  {
   "attachments": {
    "Screenshot%20from%202021-11-11%2015-09-44.png": {
     "image/png": "[encoded data removed]"
    }
   },
   "cell_type": "markdown",
   "metadata": {},
   "source": [
    "![Screenshot%20from%202021-11-11%2015-09-44.png](attachment:Screenshot%20from%202021-11-11%2015-09-44.png)"
   ]
  },
  {
   "cell_type": "markdown",
   "metadata": {},
   "source": [
    "The game stuck in local minima but the white player was more likely to win beacuase he started first. Also, in the process of the game the decisions of both players were better than depth 1 and they were smarter but the executation time increased and it takes about 3 minutes to get to this posione shown above."
   ]
  },
  {
   "cell_type": "markdown",
   "metadata": {},
   "source": [
    "As we can see by increasing the depth of the piece they play better. "
   ]
  },
  {
   "cell_type": "markdown",
   "metadata": {},
   "source": [
    "**part 6:** By setting both `WHITE_DEPTH` and `RED_DEPTH` to 5, the execuation time is around 4 minuts and then we get into a local minima. Here is the picture of it:"
   ]
  },
  {
   "attachments": {
    "Screenshot%20from%202021-11-11%2015-21-45.png": {
     "image/png": "[encoded data removed]"
    }
   },
   "cell_type": "markdown",
   "metadata": {},
   "source": [
    "![Screenshot%20from%202021-11-11%2015-21-45.png](attachment:Screenshot%20from%202021-11-11%2015-21-45.png)"
   ]
  },
  {
   "cell_type": "markdown",
   "metadata": {},
   "source": [
    "The game stuck in local minima but the white player was more likely to win beacuase he started first. Also, in the process of the game the decisions of both players were better than depth 1 and they were smarter"
   ]
  },
  {
   "cell_type": "markdown",
   "metadata": {},
   "source": [
    "**Comparing:** As we can see by increasing the depth of the search the executation time increases drastically. But, by increasing the depth of the search each player can see further situations (more depth in the tree) so the selected move will be better and therefore the player which has more depth can make better desicions so the chance of winning get more by increasing the depth. When the serach depth of both players are equal the player which start the game first is more likely to win."
   ]
  },
  {
   "cell_type": "markdown",
   "metadata": {},
   "source": [
    "**Concolusion:** In this project I learned the basic concepts of `Games`, `Adversarial search` and `Minimax Algorithhm`. I realized that The performance of a game-playing program is dependent on several factors such as the evaluation function and the depth of the search. Now I can use minimax algorithm and define the important factors based on the goal of the question."
   ]
  }
 ],
 "metadata": {
  "kernelspec": {
   "display_name": "Python 3",
   "language": "python",
   "name": "python3"
  },
  "language_info": {
   "codemirror_mode": {
    "name": "ipython",
    "version": 3
   },
   "file_extension": ".py",
   "mimetype": "text/x-python",
   "name": "python",
   "nbconvert_exporter": "python",
   "pygments_lexer": "ipython3",
   "version": "3.6.9"
  }
 },
 "nbformat": 4,
 "nbformat_minor": 4
}
